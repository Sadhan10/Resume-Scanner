{
 "cells": [
  {
   "cell_type": "code",
   "execution_count": 1,
   "metadata": {
    "colab": {
     "base_uri": "https://localhost:8080/"
    },
    "collapsed": true,
    "id": "zmKw0SKN44Q-",
    "outputId": "761adadd-382f-43a0-dbe2-9bec1ee90377"
   },
   "outputs": [
    {
     "name": "stdout",
     "output_type": "stream",
     "text": [
      "Collecting docx2txt\n",
      "  Downloading docx2txt-0.8.tar.gz (2.8 kB)\n",
      "Building wheels for collected packages: docx2txt\n",
      "  Building wheel for docx2txt (setup.py): started\n",
      "  Building wheel for docx2txt (setup.py): finished with status 'done'\n",
      "  Created wheel for docx2txt: filename=docx2txt-0.8-py3-none-any.whl size=3980 sha256=2e65701087158fa1dcae7e7b444ff8d9621c15ceb7e3f70fa35b0d2be695b4d8\n",
      "  Stored in directory: c:\\users\\sadhan\\appdata\\local\\pip\\cache\\wheels\\40\\75\\01\\e6c444034338bde9c7947d3467807f889123465c2371e77418\n",
      "Successfully built docx2txt\n",
      "Installing collected packages: docx2txt\n",
      "Successfully installed docx2txt-0.8\n",
      "Requirement already satisfied: numpy in c:\\users\\sadhan\\anaconda3\\lib\\site-packages (1.20.3)\n"
     ]
    }
   ],
   "source": [
    " !pip install docx2txt\n",
    " !pip install numpy\n",
    " import docx2txt"
   ]
  },
  {
   "cell_type": "code",
   "execution_count": 46,
   "metadata": {
    "collapsed": true,
    "id": "XWHa95qpCSZf"
   },
   "outputs": [
    {
     "name": "stdout",
     "output_type": "stream",
     "text": [
      "JOHN SMITH\n",
      "\n",
      "Experience :\n",
      "\n",
      "\n",
      "\n",
      "Jr. Digital marketing Strategist at Tesla Service. (Duration – 2 months)\n",
      "\n",
      "\n",
      "\n",
      "(Social media marketing , content writing ,Google Analytics) Handled Paid campaigns in Facebook Ads Manager, Creating contents for Ads, Analyzing the performance of the campaigns.\n",
      "\n",
      "\n",
      "\n",
      "\n",
      "\n",
      "\n",
      "\n",
      "PROFILE\n",
      "\n",
      "Seeking a challenging position in a reputed organization where I can learn new skills, expand my Knowledge, and leverage my learning.\n",
      "\n",
      "CONTACT PHONE:\n",
      "\n",
      "97564231\n",
      "\n",
      "\n",
      "\n",
      "EMAIL:\n",
      "\n",
      "J.Smith@gmail.com\n",
      "\n",
      "\n",
      "\n",
      "INTERESTS\n",
      "\n",
      "Drawing Travelling\n",
      "\n",
      "\n",
      "\n",
      "TECHNICAL SKILLS\n",
      "\n",
      "\n",
      "\n",
      "FACEBOOK ADS MANAGER MS WORD\n",
      "\n",
      "MS EXCEL\n",
      "\n",
      "MS POWERPOINT\n",
      "\n",
      "\n",
      "\n",
      "PERSONAL DATA\n",
      "\n",
      "\n",
      "\n",
      "Date of birth: 30/02/1681 Father’s Name: Frodo Baggins Mother’s Name: Harley Quinn\n",
      "\n",
      "\t\tLanguages\tKnow:\tEnglish, Kannada,French, Hindi\n",
      "\n",
      "Address: The Shire, Gotham City, NewYork, Europe, Earth 21\n",
      "\n",
      "\n",
      "\n",
      "\n",
      "\n",
      "\n",
      "EDUCATION\n",
      "\n",
      "\tMaster of Business Administration with specialized in Digital Marketing at Charles Xavier University from 2020-2022, awaiting for results\n",
      "\n",
      "\tBachelor of Science at Macrohard mars from 2017-2020 with 57.06%\n",
      "\n",
      "\tPre-University Course at Toggle  PU College mars from 2015-2017 with 70.83%\n",
      "\n",
      "\tSSLC at Amazio school with 84.96%\n",
      "\n",
      "\n",
      "\n",
      "\n",
      "\n",
      "ACHIEVEMENTS AND ACCOMPLISHMENTS\n",
      "\n",
      "\tInternship in social media marketing\n",
      "\n",
      "\tGot certified for being an active member in IT club 2018- 2019\n",
      "\n",
      "\tCompleted online certification from Strike  on “Introduction to Personal Branding” organized by University of SHIELD on February, 2021.\n",
      "\n",
      "\tCompleted an Organizational study on Stark Industries. assigned by the university.\n",
      "\n",
      "\n",
      "\n",
      "SKILLS\n",
      "\n",
      "\t\tGood collaboration and co-ordination\n",
      "\n",
      "\t\tDecision making\n",
      "\n",
      "\t\tTime management\n",
      "\n",
      "\t\tTeam player\n",
      "\n",
      "\n",
      "\n",
      "\n",
      "\n",
      "DECLARATION\n",
      "\n",
      "I hereby declare that the above information is correct to the best of my knowledge and belief\n"
     ]
    }
   ],
   "source": [
    "job_description = docx2txt.process('Job_Description_Sample.docx') #Convert the job description word document into text file\n",
    "resume = docx2txt.process('Sample_resume (3).docx')#convert the resume word document into text file\n",
    "print(resume)"
   ]
  },
  {
   "cell_type": "code",
   "execution_count": 47,
   "metadata": {
    "id": "Fve5afQbEaTX"
   },
   "outputs": [],
   "source": [
    "content = [job_description, resume]\n"
   ]
  },
  {
   "cell_type": "code",
   "execution_count": 48,
   "metadata": {
    "id": "uO4bzbd6FqWZ"
   },
   "outputs": [],
   "source": [
    "from sklearn.feature_extraction.text import CountVectorizer\n",
    "cv = CountVectorizer()\n",
    "matrix = cv.fit_transform(content)#convert the contents into a matrix"
   ]
  },
  {
   "cell_type": "code",
   "execution_count": 49,
   "metadata": {
    "colab": {
     "base_uri": "https://localhost:8080/"
    },
    "id": "8-q3WfZMGSWT",
    "outputId": "73ab2f43-ade1-41fd-81c3-7eaa16b061ad"
   },
   "outputs": [],
   "source": [
    "from sklearn.metrics.pairwise import cosine_similarity\n",
    "similarity_matrix = cosine_similarity(matrix)\n",
    "similarity = similarity_matrix[1][0]*100\n",
    "overall_similarity = (\"{:.2f}\".format(similarity)) \n"
   ]
  },
  {
   "cell_type": "code",
   "execution_count": 50,
   "metadata": {
    "colab": {
     "base_uri": "https://localhost:8080/"
    },
    "id": "I-ln2VskHNOn",
    "outputId": "b6cb8800-2439-4cc0-9360-e39f4074948b"
   },
   "outputs": [
    {
     "name": "stdout",
     "output_type": "stream",
     "text": [
      "Resume matches by 50.81 %\n"
     ]
    }
   ],
   "source": [
    "print(\"Resume matches by \" + str(overall_similarity),'%')"
   ]
  },
  {
   "cell_type": "code",
   "execution_count": null,
   "metadata": {
    "id": "ttLoGOgiHeNd"
   },
   "outputs": [],
   "source": []
  }
 ],
 "metadata": {
  "colab": {
   "name": "Resume scanner",
   "provenance": []
  },
  "kernelspec": {
   "display_name": "Python 3 (ipykernel)",
   "language": "python",
   "name": "python3"
  },
  "language_info": {
   "codemirror_mode": {
    "name": "ipython",
    "version": 3
   },
   "file_extension": ".py",
   "mimetype": "text/x-python",
   "name": "python",
   "nbconvert_exporter": "python",
   "pygments_lexer": "ipython3",
   "version": "3.9.7"
  }
 },
 "nbformat": 4,
 "nbformat_minor": 1
}
